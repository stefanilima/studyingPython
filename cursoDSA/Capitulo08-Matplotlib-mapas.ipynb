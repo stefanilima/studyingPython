{
 "cells": [
  {
   "cell_type": "markdown",
   "metadata": {},
   "source": [
    "# Matplotlib - Criando Mapas"
   ]
  },
  {
   "cell_type": "code",
   "execution_count": 2,
   "metadata": {},
   "outputs": [
    {
     "name": "stdout",
     "output_type": "stream",
     "text": [
      "Collecting basemap\n",
      "\u001b[31m  Could not find a version that satisfies the requirement basemap (from versions: )\u001b[0m\n",
      "\u001b[31mNo matching distribution found for basemap\u001b[0m\n",
      "\u001b[33mYou are using pip version 8.1.1, however version 9.0.1 is available.\n",
      "You should consider upgrading via the 'pip install --upgrade pip' command.\u001b[0m\n"
     ]
    }
   ],
   "source": [
    "!pip3 install basemap"
   ]
  },
  {
   "cell_type": "code",
   "execution_count": null,
   "metadata": {},
   "outputs": [],
   "source": [
    "# https://matplotlib.org/basemap/users/examples.html"
   ]
  },
  {
   "cell_type": "code",
   "execution_count": null,
   "metadata": {},
   "outputs": [],
   "source": [
    "from mpl_toolkits.basemap import Basemap\n",
    "from mpl_toolkits.mplot3d.axes3d import Axes3D\n",
    "import matplotlib.pyplot as plt"
   ]
  },
  {
   "cell_type": "code",
   "execution_count": null,
   "metadata": {},
   "outputs": [],
   "source": [
    "# Mapa do globo terrestre\n",
    "import warnings\n",
    "warnings.filterwarnings('ignore')\n",
    "map = Basemap(projection = 'ortho', lat_0 = 0, lon_0 = 0)\n",
    "\n",
    "# Definindo a cor do globo\n",
    "map.drawmapboundary(fill_color = 'aqua')\n",
    "\n",
    "# Preenchendo a cor dos continentes\n",
    "map.fillcontinents(color = 'coral', lake_color = 'aqua')\n",
    "\n",
    "map.drawcoastlines()\n",
    "\n",
    "plt.show()\n",
    "plt.savefig('Globo.png')"
   ]
  },
  {
   "cell_type": "code",
   "execution_count": null,
   "metadata": {},
   "outputs": [],
   "source": [
    "# Mapa do globo terrestre expandido\n",
    "from mpl_toolkits.basemap import Basemap\n",
    "import matplotlib.pyplot as plt\n",
    "\n",
    "map = Basemap()\n",
    "\n",
    "map.drawcoastlines()\n",
    "\n",
    "# Mostrar e gravar\n",
    "plt.show()\n",
    "plt.savefig('Globo-expandido.png')"
   ]
  },
  {
   "cell_type": "code",
   "execution_count": null,
   "metadata": {},
   "outputs": [],
   "source": [
    "# Cria um mapa usando Basemap\n",
    "from mpl_toolkits.basemap import Basemap\n",
    "from mpl_toolkits.mplot3d import Axes3D\n",
    "from matplotlib import pyplot\n",
    "from numpy import arange\n",
    "\n",
    "mapa = Basemap(projection = 'robin', lat_0 = -20, lon_0 = -50,\n",
    "resolution = 'l', area_thresh = 1e3)\n",
    "\n",
    "# desenha a costa dos continentes\n",
    "mapa.drawcoastlines(color='#777799')\n",
    "\n",
    "# Desenha as fronteiras\n",
    "mapa.drawcountries(color='#ccccee')\n",
    "\n",
    "# Pinta os continentes\n",
    "mapa.fillcontinents(color='#ddddcc')\n",
    "\n",
    "# Desenha os meridianos\n",
    "mapa.drawmeridians(arange(0, 360, 30), color='#ccccee')\n",
    "\n",
    "# Desenha os paralelos\n",
    "mapa.drawparallels(arange(-180, 180, 30), color='#ccccee')\n",
    "\n",
    "# Desenha os limites do mapa\n",
    "mapa.drawmapboundary()\n",
    "\n",
    "# Mostrar e gravar\n",
    "plt.show()\n",
    "pyplot.savefig('Mapa.png', dpi=150)"
   ]
  },
  {
   "cell_type": "code",
   "execution_count": null,
   "metadata": {},
   "outputs": [],
   "source": [
    "# Plot contour\n",
    "from mpl_toolkits.basemap import Basemap\n",
    "import matplotlib.pyplot as plt\n",
    "import numpy as np\n",
    "\n",
    "# Criando o mapa base\n",
    "map = Basemap(projection = 'ortho', lat_0 = 45, lon_0 = -100, resolution = 'l')\n",
    "\n",
    "# Definindo as linhas dos continentes\n",
    "map.drawcoastlines(linewidth = 0.25)\n",
    "map.drawcountries(linewidth = 0.25)\n",
    "map.fillcontinents(color = 'coral', lake_color = 'aqua')\n",
    "\n",
    "# Desenhando os limites\n",
    "map.drawmapboundary(fill_color = 'aqua')\n",
    "\n",
    "# Desenhando latitude e longitude\n",
    "map.drawmeridians(np.arange(0,360,30))\n",
    "map.drawparallels(np.arange(-90,90,30))\n",
    "\n",
    "# Desenhando os grids\n",
    "nlats = 73; nlons = 145; delta = 2.*np.pi/(nlons-1)\n",
    "lats = (0.5*np.pi-delta*np.indices((nlats,nlons))[0,:,:])\n",
    "lons = (delta*np.indices((nlats,nlons))[1,:,:])\n",
    "wave = 0.75*(np.sin(2.*lats)**8*np.cos(4.*lons))\n",
    "mean = 0.5*np.cos(2.*lats)*((np.sin(2.*lats))**2 + 2.)\n",
    "\n",
    "# Projetando coordeandas.\n",
    "x, y = map(lons*180./np.pi, lats*180./np.pi)\n",
    "\n",
    "# Dados do mapa\n",
    "cs = map.contour(x,y,wave+mean,15,linewidths=1.5)\n",
    "plt.title('Linhas sobre o continente')\n",
    "\n",
    "# Mostrar e gravar\n",
    "plt.show()\n",
    "pyplot.savefig('Continentes.png')"
   ]
  },
  {
   "cell_type": "code",
   "execution_count": null,
   "metadata": {},
   "outputs": [],
   "source": [
    "\n",
    "# Mapas dia e noite\n",
    "import numpy as np\n",
    "from mpl_toolkits.basemap import Basemap\n",
    "import matplotlib.pyplot as plt\n",
    "from datetime import datetime\n",
    "\n",
    "# Projeção\n",
    "map = Basemap(projection='mill',lon_0=180)\n",
    "\n",
    "# Linhas meridianas e paralelas.\n",
    "map.drawcoastlines()\n",
    "map.drawparallels(np.arange(-90,90,30),labels=[1,0,0,0])\n",
    "map.drawmeridians(np.arange(map.lonmin,map.lonmax+30,60),labels=[0,0,0,1])\n",
    "\n",
    "# Cores\n",
    "map.drawmapboundary(fill_color='aqua')\n",
    "map.fillcontinents(color='coral',lake_color='aqua')\n",
    "\n",
    "# Sombreando as noites. Time em UTC.\n",
    "date = datetime.utcnow()\n",
    "CS=map.nightshade(date)\n",
    "# plt.title('Mapa Dia/Noite %s (UTC)' % date.strftime(\"%d %b %Y %H:%M:%S\"))\n",
    "plt.title('Mapa Dia/Noite')\n",
    "\n",
    "# Mostrar e gravar\n",
    "plt.show()\n",
    "pyplot.savefig('Dia-Noite.png')"
   ]
  }
 ],
 "metadata": {
  "kernelspec": {
   "display_name": "Python 3",
   "language": "python",
   "name": "python3"
  },
  "language_info": {
   "codemirror_mode": {
    "name": "ipython",
    "version": 2
   },
   "file_extension": ".py",
   "mimetype": "text/x-python",
   "name": "python",
   "nbconvert_exporter": "python",
   "pygments_lexer": "ipython2",
   "version": "2.7.12"
  }
 },
 "nbformat": 4,
 "nbformat_minor": 2
}
