{
 "cells": [
  {
   "cell_type": "code",
   "execution_count": 1,
   "metadata": {},
   "outputs": [],
   "source": [
    "# Funções built-in"
   ]
  },
  {
   "cell_type": "code",
   "execution_count": 2,
   "metadata": {},
   "outputs": [
    {
     "data": {
      "text/plain": [
       "[50.0, 77.0, 95.0, 59.0]"
      ]
     },
     "execution_count": 2,
     "metadata": {},
     "output_type": "execute_result"
    }
   ],
   "source": [
    "# MAP - aplicar uma função para uma sequencia e \n",
    "# retorna todos valores(lista, tupla, string)\n",
    "def fahrenheit(T):\n",
    "    return ((float(9)/5)*T+32)\n",
    "\n",
    "temperaturas = [10, 25, 35, 15]\n",
    "\n",
    "map(fahrenheit, temperaturas)"
   ]
  },
  {
   "cell_type": "code",
   "execution_count": 3,
   "metadata": {},
   "outputs": [
    {
     "data": {
      "text/plain": [
       "25"
      ]
     },
     "execution_count": 3,
     "metadata": {},
     "output_type": "execute_result"
    }
   ],
   "source": [
    "# Reduce - aplica uma função para a sequecia e retorna o maior valor\n",
    "from functools import reduce\n",
    "\n",
    "lista = [4, 5, 6, 10]\n",
    "\n",
    "def soma(a,b):\n",
    "    return a + b\n",
    "\n",
    "reduce(soma, lista)"
   ]
  },
  {
   "cell_type": "code",
   "execution_count": 4,
   "metadata": {},
   "outputs": [
    {
     "data": {
      "text/plain": [
       "[0, 2, 4, 6, 8, 10, 12, 14, 16, 18]"
      ]
     },
     "execution_count": 4,
     "metadata": {},
     "output_type": "execute_result"
    }
   ],
   "source": [
    "# Filter - aplica uma função para a sequencia e retorna true ou false\n",
    "def verificaPar(num):\n",
    "    if num % 2 == 0:\n",
    "        return True\n",
    "    else:\n",
    "        return False\n",
    "\n",
    "verificaPar(35)\n",
    "\n",
    "lista = [0, 1, 2, 3, 4, 5, 6, 7, 8, 9, 10, 11, 12, 13, 14, 15, 16, 17, 18]\n",
    "\n",
    "filter(verificaPar, lista)"
   ]
  },
  {
   "cell_type": "code",
   "execution_count": 5,
   "metadata": {},
   "outputs": [
    {
     "data": {
      "text/plain": [
       "['p', 'y', 't', 'h', 'o', 'n']"
      ]
     },
     "execution_count": 5,
     "metadata": {},
     "output_type": "execute_result"
    }
   ],
   "source": [
    "# List Comprehension - permite desenvolver listas usando uma notação diferente. \n",
    "# Seria uma linha de loop for, construída dentro de []\n",
    "\n",
    "# Retorna cada caracter em uma sequencia de caracteres\n",
    "lst = [x for x in 'python']\n",
    "\n",
    "lst"
   ]
  },
  {
   "cell_type": "code",
   "execution_count": 6,
   "metadata": {},
   "outputs": [
    {
     "data": {
      "text/plain": [
       "[0, 1, 4, 9, 16, 25, 36, 49, 64, 81, 100]"
      ]
     },
     "execution_count": 6,
     "metadata": {},
     "output_type": "execute_result"
    }
   ],
   "source": [
    "# List Comprehension\n",
    "# Raiz quadrada e um range de números e retornar uma lista\n",
    "lst = [x**2 for x in range(0,11)]\n",
    "\n",
    "lst"
   ]
  },
  {
   "cell_type": "code",
   "execution_count": 7,
   "metadata": {},
   "outputs": [
    {
     "data": {
      "text/plain": [
       "[(1, 4), (2, 5), (3, 6)]"
      ]
     },
     "execution_count": 7,
     "metadata": {},
     "output_type": "execute_result"
    }
   ],
   "source": [
    "# Zip - Agrega os valores de duas sequências e retorna uma tupla\n",
    "x = [1, 2, 3]\n",
    "y = [4, 5, 6]\n",
    "\n",
    "zip(x, y)\n",
    "\n",
    "# Sequência que tiverem número diferente de elementos (retorna a quantidade da menor lista)\n",
    "# zip('ABCD', 'XY')\n",
    "# retorno: [('A', 'X'), ('B', 'Y')]"
   ]
  },
  {
   "cell_type": "code",
   "execution_count": 8,
   "metadata": {},
   "outputs": [
    {
     "data": {
      "text/plain": [
       "[(0, 'a'), (1, 'b'), (2, 'c')]"
      ]
     },
     "execution_count": 8,
     "metadata": {},
     "output_type": "execute_result"
    }
   ],
   "source": [
    "# Enumerate - Permite retornar o índice de cada valor em um sequência - retorna uma tupla\n",
    "seq = ['a','b','c']\n",
    "enumerate(seq)\n",
    "list(enumerate(seq))"
   ]
  },
  {
   "cell_type": "code",
   "execution_count": 9,
   "metadata": {},
   "outputs": [
    {
     "name": "stdout",
     "output_type": "stream",
     "text": [
      "Erro: arquivo não encontrado ou não pode ser lido\n",
      "Comandos no bloco finally são sempre executados!\n"
     ]
    }
   ],
   "source": [
    "# Tratamentos de erros e exceções\n",
    "try:\n",
    "    f = open('testandoerros', 'r')\n",
    "except IOError:\n",
    "    print(\"Erro: arquivo não encontrado ou não pode ser lido\")\n",
    "else:\n",
    "    print(\"Conteúdo gravado com sucesso\")\n",
    "    f.close\n",
    "finally:\n",
    "    print(\"Comandos no bloco finally são sempre executados!\")"
   ]
  },
  {
   "cell_type": "code",
   "execution_count": 10,
   "metadata": {},
   "outputs": [
    {
     "name": "stdout",
     "output_type": "stream",
     "text": [
      "Digite um número: r\n",
      "Você não digitou um número!\n",
      "fim da execução!\n",
      "Digite um número: 2\n",
      "Obrigado por digitar um número!\n",
      "fim da execução!\n"
     ]
    }
   ],
   "source": [
    "# Tratamentos de erros e exceções\n",
    "\n",
    "def askint():\n",
    "    while True:\n",
    "        try:\n",
    "            val = int(input(\"Digite um número: \"))\n",
    "        except: \n",
    "            print(\"Você não digitou um número!\")\n",
    "            continue\n",
    "        else:\n",
    "            print(\"Obrigado por digitar um número!\")\n",
    "            break\n",
    "        finally:\n",
    "            print(\"fim da execução!\")\n",
    "        print(val)\n",
    "\n",
    "askint()"
   ]
  },
  {
   "cell_type": "code",
   "execution_count": 11,
   "metadata": {},
   "outputs": [
    {
     "name": "stdout",
     "output_type": "stream",
     "text": [
      "Isso é um pequeno teste.\n",
      "Esse é apenas outro teste.\n",
      "E claro, mais este teste.\n"
     ]
    }
   ],
   "source": [
    "# Manipulação de arquivos TXT\n",
    "texto = \"Isso é um pequeno teste.\\n\"\n",
    "texto = texto + \"Esse é apenas outro teste.\\n\"\n",
    "texto += \"E claro, mais este teste.\"\n",
    "\n",
    "print(texto)"
   ]
  },
  {
   "cell_type": "code",
   "execution_count": 12,
   "metadata": {},
   "outputs": [],
   "source": [
    "# Manipulação de arquivos TXT\n",
    "\n",
    "# importanto o modulo os\n",
    "import os\n",
    "\n",
    "# Criando um arquivo (no mesmo diretório onde esta o Jupyter Notebook)\n",
    "arquivo = open(os.path.join('teste.txt'),'w')"
   ]
  },
  {
   "cell_type": "code",
   "execution_count": 13,
   "metadata": {},
   "outputs": [],
   "source": [
    "# Manipulação de arquivos TXT\n",
    "\n",
    "# Gravando os dados no arquivo\n",
    "for palavra in texto.split():\n",
    "    arquivo.write(palavra+' ')"
   ]
  },
  {
   "cell_type": "code",
   "execution_count": 14,
   "metadata": {},
   "outputs": [],
   "source": [
    "# Manipulação de arquivos TXT\n",
    "arquivo.close()"
   ]
  },
  {
   "cell_type": "code",
   "execution_count": 15,
   "metadata": {},
   "outputs": [
    {
     "name": "stdout",
     "output_type": "stream",
     "text": [
      "Isso é um pequeno teste. Esse é apenas outro teste. E claro, mais este teste. \n"
     ]
    }
   ],
   "source": [
    "# Manipulação de arquivos TXT\n",
    "\n",
    "# Lendo o arquivo\n",
    "arquivo = open('teste.txt','r')\n",
    "texto = arquivo.read()\n",
    "arquivo.close()\n",
    "\n",
    "print(texto)"
   ]
  },
  {
   "cell_type": "code",
   "execution_count": 16,
   "metadata": {},
   "outputs": [],
   "source": [
    "# Manipulando arquivos CSV\n",
    "import csv\n",
    "\n",
    "with open('numeros.csv','w') as arquivo:\n",
    "    writer = csv.writer(arquivo)\n",
    "    writer.writerow(('primeira','segunda','terceira'))\n",
    "    writer.writerow((55,93,76))\n",
    "    writer.writerow((62,14,86))"
   ]
  },
  {
   "cell_type": "code",
   "execution_count": 17,
   "metadata": {},
   "outputs": [
    {
     "name": "stdout",
     "output_type": "stream",
     "text": [
      "('N\\xc3\\xbameros de colunas', 3)\n",
      "['primeira', 'segunda', 'terceira']\n",
      "('N\\xc3\\xbameros de colunas', 3)\n",
      "['55', '93', '76']\n",
      "('N\\xc3\\xbameros de colunas', 3)\n",
      "['62', '14', '86']\n"
     ]
    }
   ],
   "source": [
    "# Manipulando arquivos CSV\n",
    "\n",
    "# Lendo arquivo csv\n",
    "with open('numeros.csv','r') as arquivo:\n",
    "    leitor = csv.reader(arquivo)\n",
    "    for x in leitor:\n",
    "        print('Números de colunas', len(x))\n",
    "        print(x)"
   ]
  },
  {
   "cell_type": "code",
   "execution_count": 18,
   "metadata": {},
   "outputs": [
    {
     "name": "stdout",
     "output_type": "stream",
     "text": [
      "('num', '123')\n",
      "('linguagem', 'Python')\n",
      "('nome', 'Stefani')\n"
     ]
    }
   ],
   "source": [
    "# Manipulando arquivos JSON\n",
    "dict = {'nome': 'Stefani',\n",
    "        'linguagem': 'Python',\n",
    "        'num': '123'}\n",
    "\n",
    "for k,v in dict.items():\n",
    "    print(k,v)"
   ]
  },
  {
   "cell_type": "code",
   "execution_count": 19,
   "metadata": {},
   "outputs": [],
   "source": [
    "# Manipulando arquivos JSON\n",
    "\n",
    "import json\n",
    "\n",
    "json.dumps(dict)\n",
    "\n",
    "# Criando o arquivo json\n",
    "with open('dados.json','w') as arquivo:\n",
    "    arquivo.write(json.dumps(dict))"
   ]
  },
  {
   "cell_type": "code",
   "execution_count": 20,
   "metadata": {},
   "outputs": [],
   "source": [
    "# Manipulando arquivos JSON\n",
    "\n",
    "# lendo arquivo Json\n",
    "with open('dados.json','r') as arquivo:\n",
    "    texto = arquivo.read()\n",
    "    data = json.loads(texto)"
   ]
  },
  {
   "cell_type": "code",
   "execution_count": 21,
   "metadata": {},
   "outputs": [
    {
     "name": "stdout",
     "output_type": "stream",
     "text": [
      "Buscando por \"informações\" em: \n",
      "\n",
      "\"Existem muitos desafios para o Big Data. O primeiro deles é a coleta dos dados, pois fala-se aqui de enormes quantidades sendo geradas em uma taxa maior do que um servidor comum seria capaz de processar e armazenar. O segundo desafio é justamente o de processar essas informações. Com elas então distribuídas, a aplicação deve ser capaz de consumir partes das informações e gerar pequenas quantidades de dados processados, que serão calculados em conjunto depois para criar o resultado final. Outro desafio é a exibição dos resultados, de forma que as informações estejam disponíveis de forma clara para os tomadores de decisão.\"\n",
      "\n",
      "\n",
      "Palavra encontrada. \n",
      "\n",
      "\n",
      "\n",
      "Buscando por \"Negócios\" em: \n",
      "\n",
      "\"Existem muitos desafios para o Big Data. O primeiro deles é a coleta dos dados, pois fala-se aqui de enormes quantidades sendo geradas em uma taxa maior do que um servidor comum seria capaz de processar e armazenar. O segundo desafio é justamente o de processar essas informações. Com elas então distribuídas, a aplicação deve ser capaz de consumir partes das informações e gerar pequenas quantidades de dados processados, que serão calculados em conjunto depois para criar o resultado final. Outro desafio é a exibição dos resultados, de forma que as informações estejam disponíveis de forma clara para os tomadores de decisão.\"\n",
      "\n",
      "\n",
      "Palavra não encontrada. \n",
      "\n",
      "\n",
      "\n"
     ]
    }
   ],
   "source": [
    "# Expressões regulares\n",
    "\n",
    "import re\n",
    "\n",
    "lista_pesquisa = ['informações', 'Negócios']\n",
    "\n",
    "texto = 'Existem muitos desafios para o Big Data. O primeiro deles é a coleta dos dados, pois fala-se aqui de '\\\n",
    "'enormes quantidades sendo geradas em uma taxa maior do que um servidor comum seria capaz de processar e armazenar. '\\\n",
    "'O segundo desafio é justamente o de processar essas informações. Com elas então distribuídas, a aplicação deve ser '\\\n",
    "'capaz de consumir partes das informações e gerar pequenas quantidades de dados processados, que serão calculados em '\\\n",
    "'conjunto depois para criar o resultado final. Outro desafio é a exibição dos resultados, de forma que as informações '\\\n",
    "'estejam disponíveis de forma clara para os tomadores de decisão.'\n",
    "\n",
    "# exemplo básico de Data Mining\n",
    "for item in lista_pesquisa:\n",
    "    print('Buscando por \"%s\" em: \\n\\n\"%s\"' % (item, texto))\n",
    "    \n",
    "    #Verificando se o termo de pesquisa existe no texto\n",
    "    if re.search(item, texto):\n",
    "        print('\\n')\n",
    "        print('Palavra encontrada. \\n')\n",
    "        print('\\n')\n",
    "    else:\n",
    "        print('\\n')\n",
    "        print('Palavra não encontrada. \\n')\n",
    "        print('\\n')"
   ]
  },
  {
   "cell_type": "code",
   "execution_count": null,
   "metadata": {},
   "outputs": [],
   "source": [
    "# Python Debugger\n",
    "import pdb\n",
    "\n",
    "a = [4, 5, 6]\n",
    "b = 2\n",
    "c = 3\n",
    "\n",
    "resultado = b + c\n",
    "print(resultado)\n",
    "\n",
    "pdb.set_trace()\n",
    "\n",
    "resultado2 = a + b\n",
    "print(resultado2)"
   ]
  }
 ],
 "metadata": {
  "kernelspec": {
   "display_name": "Python 3",
   "language": "python",
   "name": "python3"
  },
  "language_info": {
   "codemirror_mode": {
    "name": "ipython",
    "version": 2
   },
   "file_extension": ".py",
   "mimetype": "text/x-python",
   "name": "python",
   "nbconvert_exporter": "python",
   "pygments_lexer": "ipython2",
   "version": "2.7.12"
  }
 },
 "nbformat": 4,
 "nbformat_minor": 2
}
